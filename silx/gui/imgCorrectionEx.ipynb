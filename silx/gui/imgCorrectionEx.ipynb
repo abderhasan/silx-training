{
 "cells": [
  {
   "cell_type": "code",
   "execution_count": null,
   "metadata": {
    "collapsed": true
   },
   "outputs": [],
   "source": [
    "%gui qt"
   ]
  },
  {
   "cell_type": "markdown",
   "metadata": {},
   "source": [
    "Same exercise made in io (image correction) but adding the interaction"
   ]
  },
  {
   "cell_type": "markdown",
   "metadata": {},
   "source": [
    "# Create two functions\n",
    "\n",
    "![ImageDialog](img/ImageDialog.png)\n",
    "\n",
    "- `getFlatfield`: to select the flatfield\n",
    "- `getDark`: to select the dark\n",
    "\n",
    "To do this use the ImageFileDialog class\n",
    "\n",
    "- see doc: http://www.silx.org/doc/silx/latest/modules/gui/dialog/imagefiledialog.html\n",
    "- related example: examples/fileDialog.py"
   ]
  },
  {
   "cell_type": "code",
   "execution_count": null,
   "metadata": {
    "collapsed": true
   },
   "outputs": [],
   "source": [
    "from silx.gui.dialog.ImageFileDialog import ImageFileDialog"
   ]
  },
  {
   "cell_type": "markdown",
   "metadata": {},
   "source": [
    "# Create a function to correct an image from flatfield and dark\n",
    "\n",
    "take as input an image, dark and flatfield. Return the normalized image\n",
    "\n",
    "note: you probably already create it on the io part"
   ]
  },
  {
   "cell_type": "markdown",
   "metadata": {},
   "source": [
    "# Select an image and display it raw and normalized\n",
    "\n",
    "The following function can manage the requested display"
   ]
  },
  {
   "cell_type": "code",
   "execution_count": null,
   "metadata": {
    "collapsed": true
   },
   "outputs": [],
   "source": [
    "from silx.gui.plot import Plot2D\n",
    "def showRawAndCorrected(raw, corrected):\n",
    "    plot = Plot2D()\n",
    "    plot.addImage(data=raw, replace=False, legend='raw')\n",
    "    plot.addImage(data=corrected, replace=False,\n",
    "                  legend='corrected', origin=(raw.shape[0], 0))\n",
    "    plot.show()"
   ]
  },
  {
   "cell_type": "markdown",
   "metadata": {},
   "source": [
    "# Add an action to apply the correction on a stack of image"
   ]
  },
  {
   "cell_type": "markdown",
   "metadata": {},
   "source": [
    "![ImageDialog](img/svNormalization.png)"
   ]
  },
  {
   "cell_type": "markdown",
   "metadata": {},
   "source": [
    "Here is the sample code to plot the stack of image"
   ]
  },
  {
   "cell_type": "code",
   "execution_count": null,
   "metadata": {
    "collapsed": false
   },
   "outputs": [],
   "source": [
    "from silx.gui.plot.StackView import StackViewMainWindow\n",
    "import h5py\n",
    "import numpy\n",
    "\n",
    "dataFile = h5py.File('data/ID16B_diatomee.h5')\n",
    "\n",
    "mystack = dataFile['scan1']['instrument']['data'][...]\n",
    "\n",
    "sv = StackViewMainWindow()\n",
    "sv.setStack(mystack)\n",
    "sv.show()"
   ]
  },
  {
   "cell_type": "markdown",
   "metadata": {},
   "source": [
    "Here is a function to apply the corection on the stack. Use getStack() function on the `StackViewMainWindow` object to retrieve the stack"
   ]
  },
  {
   "cell_type": "code",
   "execution_count": null,
   "metadata": {
    "collapsed": true
   },
   "outputs": [],
   "source": [
    "def applyCorrections(images, flatfield, dark):\n",
    "    correctedImgs = []\n",
    "    for image in images:\n",
    "        correctedImgs.append(applyCorrection(image,\n",
    "                                             flatfield=flatfield,\n",
    "                                             dark=dark))\n",
    "    return correctedImgs"
   ]
  },
  {
   "cell_type": "markdown",
   "metadata": {},
   "source": [
    "To define an action\n",
    "\n",
    "- heritate from PlotAction\n",
    "- redefine the triggered function\n",
    "- See http://www.silx.org/doc/silx/dev/modules/gui/plot/actions/examples.html tutorial\n",
    "- you can also use the PlotAction tutorial.ipynb"
   ]
  }
 ],
 "metadata": {
  "kernelspec": {
   "display_name": "Python 3",
   "language": "python",
   "name": "python3"
  },
  "language_info": {
   "codemirror_mode": {
    "name": "ipython",
    "version": 3
   },
   "file_extension": ".py",
   "mimetype": "text/x-python",
   "name": "python",
   "nbconvert_exporter": "python",
   "pygments_lexer": "ipython3",
   "version": "3.5.2"
  }
 },
 "nbformat": 4,
 "nbformat_minor": 1
}
