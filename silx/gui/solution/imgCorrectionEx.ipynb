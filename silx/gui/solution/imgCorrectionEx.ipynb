{
 "cells": [
  {
   "cell_type": "code",
   "execution_count": null,
   "metadata": {
    "collapsed": true
   },
   "outputs": [],
   "source": [
    "%gui qt"
   ]
  },
  {
   "cell_type": "markdown",
   "metadata": {},
   "source": [
    "Same exercise, (data, normalization function) as io but with interaction"
   ]
  },
  {
   "cell_type": "markdown",
   "metadata": {},
   "source": [
    "# Create two functions\n",
    "\n",
    "![ImageDialog](img/ImageDialog.png)\n",
    "\n",
    "- `getFlatfield`: to select the flatfield\n",
    "- `getDark`: to select the dark\n",
    "\n",
    "To do this use the ImageFileDialog class\n",
    "\n",
    "- see doc: http://www.silx.org/doc/silx/latest/modules/gui/dialog/imagefiledialog.html\n",
    "- related example: examples/fileDialog.py"
   ]
  },
  {
   "cell_type": "code",
   "execution_count": null,
   "metadata": {
    "collapsed": true
   },
   "outputs": [],
   "source": [
    "from silx.gui.dialog.ImageFileDialog import ImageFileDialog"
   ]
  },
  {
   "cell_type": "code",
   "execution_count": null,
   "metadata": {
    "collapsed": false
   },
   "outputs": [],
   "source": [
    "import os\n",
    "def getImage(title=None):\n",
    "    dialog = ImageFileDialog()\n",
    "    dialog.setWindowTitle(title or 'Get image')\n",
    "    dir_ = '../data'\n",
    "    assert os.path.isdir(dir_)\n",
    "    dialog.setDirectory(dir_)\n",
    "    if not dialog.exec_():\n",
    "        return None\n",
    "    else:\n",
    "        return dialog.selectedImage()"
   ]
  },
  {
   "cell_type": "code",
   "execution_count": null,
   "metadata": {
    "collapsed": true
   },
   "outputs": [],
   "source": [
    "def getFlatfield():\n",
    "    return getImage('Select flatfield')"
   ]
  },
  {
   "cell_type": "code",
   "execution_count": null,
   "metadata": {
    "collapsed": true
   },
   "outputs": [],
   "source": [
    "def getDark():\n",
    "    return getImage('Select dark')"
   ]
  },
  {
   "cell_type": "markdown",
   "metadata": {},
   "source": [
    "# Create a function to correct an image from flatfield and dark\n",
    "\n",
    "take as input an image, dark and flatfield. Return the normalized image"
   ]
  },
  {
   "cell_type": "code",
   "execution_count": null,
   "metadata": {
    "collapsed": true
   },
   "outputs": [],
   "source": [
    "def applyCorrection(image, flatfield, dark):\n",
    "    return (image - dark) / (flatfield - dark)"
   ]
  },
  {
   "cell_type": "markdown",
   "metadata": {},
   "source": [
    "# Select an image and display it raw and normalized"
   ]
  },
  {
   "cell_type": "code",
   "execution_count": null,
   "metadata": {
    "collapsed": true
   },
   "outputs": [],
   "source": [
    "from silx.gui.plot import Plot2D\n",
    "def showRawAndCorrected(raw, corrected):\n",
    "    plot = Plot2D()\n",
    "    plot.addImage(data=raw, replace=False, legend='raw')\n",
    "    plot.addImage(data=corrected, replace=False,\n",
    "                  legend='corrected', origin=(raw.shape[0], 0))\n",
    "    plot.show()"
   ]
  },
  {
   "cell_type": "code",
   "execution_count": null,
   "metadata": {
    "collapsed": false
   },
   "outputs": [],
   "source": [
    "image = getImage()\n",
    "flatfield = getFlatfield()\n",
    "dark = getDark()\n",
    "if image is not None and dark is not None and flatfield is not None:\n",
    "    corrected = applyCorrection(image=image,\n",
    "                                flatfield=flatfield,\n",
    "                                dark=dark)\n",
    "    showRawAndCorrected(raw=image, corrected=corrected)"
   ]
  },
  {
   "cell_type": "markdown",
   "metadata": {},
   "source": [
    "# Add an action to apply the correction on a stack of image"
   ]
  },
  {
   "cell_type": "markdown",
   "metadata": {},
   "source": [
    "![ImageDialog](img/svNormalization.png)"
   ]
  },
  {
   "cell_type": "markdown",
   "metadata": {},
   "source": [
    "Here is the sample code to plot the stack of image"
   ]
  },
  {
   "cell_type": "code",
   "execution_count": null,
   "metadata": {
    "collapsed": false
   },
   "outputs": [],
   "source": [
    "from silx.gui.plot.StackView import StackViewMainWindow\n",
    "import h5py\n",
    "import numpy\n",
    "\n",
    "dataFile = h5py.File('../data/ID16B_diatomee.h5')\n",
    "\n",
    "mystack = dataFile['scan1']['instrument']['data'][...]\n",
    "\n",
    "sv = StackViewMainWindow()\n",
    "sv.setStack(mystack)\n",
    "sv.show()"
   ]
  },
  {
   "cell_type": "markdown",
   "metadata": {},
   "source": [
    "Here is a function to apply the corection on the stack"
   ]
  },
  {
   "cell_type": "code",
   "execution_count": null,
   "metadata": {
    "collapsed": true
   },
   "outputs": [],
   "source": [
    "def applyCorrections(images, flatfield, dark):\n",
    "    correctedImgs = []\n",
    "    for image in images:\n",
    "        correctedImgs.append(applyCorrection(image,\n",
    "                                             flatfield=flatfield,\n",
    "                                             dark=dark))\n",
    "    return correctedImgs"
   ]
  },
  {
   "cell_type": "markdown",
   "metadata": {},
   "source": [
    "To define an action:\n",
    "    - heritate from PlotAction\n",
    "    - redefine the triggered function\n",
    "    - See the tutorial on how to add an action see: http://www.silx.org/doc/silx/dev/modules/gui/plot/actions/examples.html\n",
    "    - you can also use the PlotAction tutorial.ipynb"
   ]
  },
  {
   "cell_type": "code",
   "execution_count": null,
   "metadata": {
    "collapsed": false
   },
   "outputs": [],
   "source": [
    "from silx.gui.plot.actions import PlotAction \n",
    "class CorrectImageAction(PlotAction):\n",
    "    \"\"\"QAction applying the correction algorithm\n",
    "\n",
    "    :param plot: :class:`.PlotWidget` instance on which to operate\n",
    "    :param parent: See :class:`QAction`\n",
    "    \"\"\"\n",
    "    def __init__(self, plot, sv, parent=None):\n",
    "        PlotAction.__init__(self,\n",
    "                            plot,\n",
    "                            icon='shape-circle',\n",
    "                            text='process correction',\n",
    "                            tooltip='apply the correction algorithm',\n",
    "                            triggered=self._actionTriggered,\n",
    "                            parent=parent,\n",
    "                           checkable=False)\n",
    "        self.stackViewer = sv\n",
    "\n",
    "    def _actionTriggered(self):\n",
    "        flatfield = getFlatfield()\n",
    "        dark = getDark()\n",
    "        if flatfield is None or dark is None:\n",
    "            return\n",
    "        newStack = applyCorrections(images=self.stackViewer.getStack()[0],\n",
    "                                    flatfield=flatfield,\n",
    "                                    dark=dark)\n",
    "        self.stackViewer.setStack(newStack)"
   ]
  },
  {
   "cell_type": "code",
   "execution_count": null,
   "metadata": {
    "collapsed": false
   },
   "outputs": [],
   "source": [
    "sv = StackViewMainWindow()\n",
    "sv.setStack(mystack)\n",
    "\n",
    "toolBar = sv.getPlot().toolBar()\n",
    "myaction = CorrectImageAction(sv.getPlot(), sv)\n",
    "toolBar.addAction(myaction)\n",
    "sv.show()"
   ]
  },
  {
   "cell_type": "code",
   "execution_count": null,
   "metadata": {
    "collapsed": true
   },
   "outputs": [],
   "source": []
  }
 ],
 "metadata": {
  "kernelspec": {
   "display_name": "Python 3",
   "language": "python",
   "name": "python3"
  },
  "language_info": {
   "codemirror_mode": {
    "name": "ipython",
    "version": 3
   },
   "file_extension": ".py",
   "mimetype": "text/x-python",
   "name": "python",
   "nbconvert_exporter": "python",
   "pygments_lexer": "ipython3",
   "version": "3.5.2"
  }
 },
 "nbformat": 4,
 "nbformat_minor": 1
}
